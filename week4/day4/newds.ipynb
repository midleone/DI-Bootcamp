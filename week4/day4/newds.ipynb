{
  "nbformat": 4,
  "nbformat_minor": 0,
  "metadata": {
    "colab": {
      "provenance": [],
      "authorship_tag": "ABX9TyMUphsfvgeNQ9tc2YPkn6Uf",
      "include_colab_link": true
    },
    "kernelspec": {
      "name": "python3",
      "display_name": "Python 3"
    },
    "language_info": {
      "name": "python"
    }
  },
  "cells": [
    {
      "cell_type": "markdown",
      "metadata": {
        "id": "view-in-github",
        "colab_type": "text"
      },
      "source": [
        "<a href=\"https://colab.research.google.com/github/midleone/DI-Bootcamp/blob/main/week4/day4/newds.ipynb\" target=\"_parent\"><img src=\"https://colab.research.google.com/assets/colab-badge.svg\" alt=\"Open In Colab\"/></a>"
      ]
    },
    {
      "cell_type": "code",
      "execution_count": 11,
      "metadata": {
        "id": "-TzNy8ATl955"
      },
      "outputs": [],
      "source": [
        "import pandas as pd\n",
        "from sklearn.preprocessing import MinMaxScaler, LabelEncoder\n",
        "from sklearn.decomposition import PCA\n"
      ]
    },
    {
      "cell_type": "code",
      "source": [
        "df = pd.read_csv('datascience_salaries.csv')\n",
        "\n",
        "print(\"First rows:\")\n",
        "print(df.head())"
      ],
      "metadata": {
        "colab": {
          "base_uri": "https://localhost:8080/"
        },
        "id": "SlbMvO5VmCYV",
        "outputId": "b3b5a039-b914-471f-c4cf-b12a590807fc"
      },
      "execution_count": 8,
      "outputs": [
        {
          "output_type": "stream",
          "name": "stdout",
          "text": [
            "First rows:\n",
            "   Unnamed: 0       job_title   job_type experience_level       location  \\\n",
            "0           0  Data scientist  Full Time           Senior  New York City   \n",
            "1           2  Data scientist  Full Time           Senior         Boston   \n",
            "2           3  Data scientist  Full Time           Senior         London   \n",
            "3           4  Data scientist  Full Time           Senior         Boston   \n",
            "4           5  Data scientist  Full Time           Senior  New York City   \n",
            "\n",
            "  salary_currency  salary  \n",
            "0             USD  149000  \n",
            "1             USD  120000  \n",
            "2             USD   68000  \n",
            "3             USD  120000  \n",
            "4             USD  149000  \n"
          ]
        }
      ]
    },
    {
      "cell_type": "code",
      "source": [
        "scaler = MinMaxScaler()\n",
        "df['normalized_salary'] = scaler.fit_transform(df[['salary']])\n",
        "\n",
        "label_encoder = LabelEncoder()\n",
        "df['experience_level_encoded'] = label_encoder.fit_transform(df['experience_level'])\n",
        "\n",
        "numeric_columns = df.select_dtypes(include=[float, int]).columns\n",
        "pca = PCA(n_components=2)\n",
        "df_pca = pd.DataFrame(pca.fit_transform(df[numeric_columns]), columns=['PC1', 'PC2'])\n",
        "df = pd.concat([df, df_pca], axis=1)\n",
        "\n",
        "agg_df = df.groupby('experience_level').agg({'salary': ['mean', 'median'], 'normalized_salary': ['mean', 'median']}).reset_index()\n",
        "\n",
        "print(agg_df)"
      ],
      "metadata": {
        "colab": {
          "base_uri": "https://localhost:8080/"
        },
        "id": "aGEjU5gB6dtt",
        "outputId": "1209507b-3eda-4f54-ee8e-4fcb0caa639f"
      },
      "execution_count": 12,
      "outputs": [
        {
          "output_type": "stream",
          "name": "stdout",
          "text": [
            "  experience_level        salary          normalized_salary          \n",
            "                            mean   median              mean    median\n",
            "0            Entry  36111.111111  30000.0          0.030864  0.000000\n",
            "1        Executive  76076.923077  46000.0          0.232712  0.080808\n",
            "2              Mid  51786.885246  51000.0          0.110035  0.106061\n",
            "3           Senior  75088.033012  68000.0          0.227717  0.191919\n"
          ]
        }
      ]
    }
  ]
}