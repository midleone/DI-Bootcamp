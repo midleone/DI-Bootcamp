{
  "nbformat": 4,
  "nbformat_minor": 0,
  "metadata": {
    "colab": {
      "provenance": [],
      "authorship_tag": "ABX9TyP3tAw0hPry1UN9tTEXwlFR",
      "include_colab_link": true
    },
    "kernelspec": {
      "name": "python3",
      "display_name": "Python 3"
    },
    "language_info": {
      "name": "python"
    }
  },
  "cells": [
    {
      "cell_type": "markdown",
      "metadata": {
        "id": "view-in-github",
        "colab_type": "text"
      },
      "source": [
        "<a href=\"https://colab.research.google.com/github/midleone/DI-Bootcamp/blob/main/week4/day3/DS.ipynb\" target=\"_parent\"><img src=\"https://colab.research.google.com/assets/colab-badge.svg\" alt=\"Open In Colab\"/></a>"
      ]
    },
    {
      "cell_type": "code",
      "execution_count": 2,
      "metadata": {
        "id": "t4hVJwHnYdbo"
      },
      "outputs": [],
      "source": [
        "import pandas as pd\n",
        "import requests"
      ]
    },
    {
      "cell_type": "code",
      "source": [
        "iris_df = pd.read_csv(\"IRIS.csv\")\n"
      ],
      "metadata": {
        "id": "UZU8pNbrYiHM"
      },
      "execution_count": 4,
      "outputs": []
    },
    {
      "cell_type": "code",
      "source": [
        "cleaned_iris_filename = 'cleaned_iris.xlsx'"
      ],
      "metadata": {
        "id": "kVeKJsAxZomN"
      },
      "execution_count": 7,
      "outputs": []
    },
    {
      "cell_type": "code",
      "source": [
        "iris_df.to_excel(cleaned_iris_filename, index=False)"
      ],
      "metadata": {
        "id": "mb1eBkf1ZPP2"
      },
      "execution_count": 8,
      "outputs": []
    },
    {
      "cell_type": "code",
      "source": [
        "imported_iris_df = pd.read_excel(cleaned_iris_filename)"
      ],
      "metadata": {
        "id": "Za6ZDr6yZuxT"
      },
      "execution_count": 9,
      "outputs": []
    },
    {
      "cell_type": "code",
      "source": [
        "print(imported_iris_df.head())\n"
      ],
      "metadata": {
        "colab": {
          "base_uri": "https://localhost:8080/"
        },
        "id": "j4tHNXEfZz1q",
        "outputId": "e17f00ac-dcc8-4e71-9db2-426b48bf9c3c"
      },
      "execution_count": 10,
      "outputs": [
        {
          "output_type": "stream",
          "name": "stdout",
          "text": [
            "   sepal_length  sepal_width  petal_length  petal_width      species\n",
            "0           5.1          3.5           1.4          0.2  Iris-setosa\n",
            "1           4.9          3.0           1.4          0.2  Iris-setosa\n",
            "2           4.7          3.2           1.3          0.2  Iris-setosa\n",
            "3           4.6          3.1           1.5          0.2  Iris-setosa\n",
            "4           5.0          3.6           1.4          0.2  Iris-setosa\n"
          ]
        }
      ]
    },
    {
      "cell_type": "code",
      "source": [
        "data_match = iris_df.equals(imported_iris_df)\n",
        "print(f\"Data match: {data_match}\")"
      ],
      "metadata": {
        "colab": {
          "base_uri": "https://localhost:8080/"
        },
        "id": "u9j5TGgXZ5Pl",
        "outputId": "355799b4-295b-4953-f9e4-01a4529b848d"
      },
      "execution_count": 11,
      "outputs": [
        {
          "output_type": "stream",
          "name": "stdout",
          "text": [
            "Data match: True\n"
          ]
        }
      ]
    },
    {
      "cell_type": "code",
      "source": [
        "iris_subset = iris_df.head(10)\n",
        "\n",
        "iris_subset_filename = 'iris_subset.json'\n",
        "iris_subset.to_json(iris_subset_filename, orient='records')"
      ],
      "metadata": {
        "id": "BQEGMtpAaBd4"
      },
      "execution_count": 12,
      "outputs": []
    }
  ]
}