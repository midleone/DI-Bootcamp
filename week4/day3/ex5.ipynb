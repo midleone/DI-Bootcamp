{
  "nbformat": 4,
  "nbformat_minor": 0,
  "metadata": {
    "colab": {
      "provenance": [],
      "authorship_tag": "ABX9TyM1ETqLKgaXhzQQi6V/tRn2",
      "include_colab_link": true
    },
    "kernelspec": {
      "name": "python3",
      "display_name": "Python 3"
    },
    "language_info": {
      "name": "python"
    }
  },
  "cells": [
    {
      "cell_type": "markdown",
      "metadata": {
        "id": "view-in-github",
        "colab_type": "text"
      },
      "source": [
        "<a href=\"https://colab.research.google.com/github/midleone/DI-Bootcamp/blob/main/week4/day3/ex5.ipynb\" target=\"_parent\"><img src=\"https://colab.research.google.com/assets/colab-badge.svg\" alt=\"Open In Colab\"/></a>"
      ]
    },
    {
      "cell_type": "code",
      "execution_count": 2,
      "metadata": {
        "id": "4SWT1h-BW337"
      },
      "outputs": [],
      "source": [
        "import pandas as pd\n",
        "\n",
        "data = {'Name': ['John', 'Jane', 'Bob'],\n",
        "        'Age': [25, 30, 22],\n",
        "        'City': ['New York', 'San Francisco', 'Los Angeles']}\n",
        "\n",
        "df = pd.DataFrame(data)\n",
        "\n"
      ]
    },
    {
      "cell_type": "code",
      "source": [
        "excel_filename = 'output_data.xlsx'\n",
        "df.to_excel(excel_filename, index=False)\n",
        "\n",
        "json_filename = 'output_data.json'\n",
        "df.to_json(json_filename, orient='records')\n",
        "\n",
        "print(f\"DataFrame exported to {excel_filename} (Excel) and {json_filename} (JSON).\")"
      ],
      "metadata": {
        "colab": {
          "base_uri": "https://localhost:8080/"
        },
        "id": "18vP2JmqXKNg",
        "outputId": "9fbf9f6e-6f4a-4059-a0ba-33fc3b582589"
      },
      "execution_count": 3,
      "outputs": [
        {
          "output_type": "stream",
          "name": "stdout",
          "text": [
            "DataFrame exported to output_data.xlsx (Excel) and output_data.json (JSON).\n"
          ]
        }
      ]
    }
  ]
}