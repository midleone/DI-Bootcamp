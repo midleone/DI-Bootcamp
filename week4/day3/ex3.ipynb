{
  "nbformat": 4,
  "nbformat_minor": 0,
  "metadata": {
    "colab": {
      "provenance": [],
      "authorship_tag": "ABX9TyP9K5ScFDOkwM7tqDIhi2tA",
      "include_colab_link": true
    },
    "kernelspec": {
      "name": "python3",
      "display_name": "Python 3"
    },
    "language_info": {
      "name": "python"
    }
  },
  "cells": [
    {
      "cell_type": "markdown",
      "metadata": {
        "id": "view-in-github",
        "colab_type": "text"
      },
      "source": [
        "<a href=\"https://colab.research.google.com/github/midleone/DI-Bootcamp/blob/main/week4/day3/ex3.ipynb\" target=\"_parent\"><img src=\"https://colab.research.google.com/assets/colab-badge.svg\" alt=\"Open In Colab\"/></a>"
      ]
    },
    {
      "cell_type": "code",
      "source": [
        "import pandas as pd\n",
        "import requests\n"
      ],
      "metadata": {
        "id": "ykpaaIE7S4lN"
      },
      "execution_count": 3,
      "outputs": []
    },
    {
      "cell_type": "code",
      "source": [
        "json_url = \"https://jsonplaceholder.typicode.com/posts\""
      ],
      "metadata": {
        "id": "0xC3P27lS7hI"
      },
      "execution_count": 6,
      "outputs": []
    },
    {
      "cell_type": "code",
      "source": [
        "response = requests.get(json_url)\n",
        "json_data = response.json()\n",
        "\n",
        "df = pd.DataFrame(json_data)\n",
        "\n",
        "print(df.head())"
      ],
      "metadata": {
        "colab": {
          "base_uri": "https://localhost:8080/"
        },
        "id": "0JHOTw0vS_T7",
        "outputId": "5aa1a91a-159f-4673-ad84-c9a284c0198c"
      },
      "execution_count": 7,
      "outputs": [
        {
          "output_type": "stream",
          "name": "stdout",
          "text": [
            "   userId  id                                              title  \\\n",
            "0       1   1  sunt aut facere repellat provident occaecati e...   \n",
            "1       1   2                                       qui est esse   \n",
            "2       1   3  ea molestias quasi exercitationem repellat qui...   \n",
            "3       1   4                               eum et est occaecati   \n",
            "4       1   5                                 nesciunt quas odio   \n",
            "\n",
            "                                                body  \n",
            "0  quia et suscipit\\nsuscipit recusandae consequu...  \n",
            "1  est rerum tempore vitae\\nsequi sint nihil repr...  \n",
            "2  et iusto sed quo iure\\nvoluptatem occaecati om...  \n",
            "3  ullam et saepe reiciendis voluptatem adipisci\\...  \n",
            "4  repudiandae veniam quaerat sunt sed\\nalias aut...  \n"
          ]
        }
      ]
    }
  ]
}