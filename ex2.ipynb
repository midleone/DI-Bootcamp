{
  "nbformat": 4,
  "nbformat_minor": 0,
  "metadata": {
    "colab": {
      "provenance": [],
      "authorship_tag": "ABX9TyOna5ETbxPRIBV6KMKjQSeK",
      "include_colab_link": true
    },
    "kernelspec": {
      "name": "python3",
      "display_name": "Python 3"
    },
    "language_info": {
      "name": "python"
    }
  },
  "cells": [
    {
      "cell_type": "markdown",
      "metadata": {
        "id": "view-in-github",
        "colab_type": "text"
      },
      "source": [
        "<a href=\"https://colab.research.google.com/github/midleone/DI-Bootcamp/blob/main/ex2.ipynb\" target=\"_parent\"><img src=\"https://colab.research.google.com/assets/colab-badge.svg\" alt=\"Open In Colab\"/></a>"
      ]
    },
    {
      "cell_type": "code",
      "execution_count": 2,
      "metadata": {
        "colab": {
          "base_uri": "https://localhost:8080/"
        },
        "id": "lFc2-MWkvl_V",
        "outputId": "7036af9b-9d1b-4a53-b4d2-b340d2bb1e57"
      },
      "outputs": [
        {
          "output_type": "stream",
          "name": "stdout",
          "text": [
            "Requirement already satisfied: kaggle in /usr/local/lib/python3.10/dist-packages (1.5.16)\n",
            "Requirement already satisfied: six>=1.10 in /usr/local/lib/python3.10/dist-packages (from kaggle) (1.16.0)\n",
            "Requirement already satisfied: certifi in /usr/local/lib/python3.10/dist-packages (from kaggle) (2023.11.17)\n",
            "Requirement already satisfied: python-dateutil in /usr/local/lib/python3.10/dist-packages (from kaggle) (2.8.2)\n",
            "Requirement already satisfied: requests in /usr/local/lib/python3.10/dist-packages (from kaggle) (2.31.0)\n",
            "Requirement already satisfied: tqdm in /usr/local/lib/python3.10/dist-packages (from kaggle) (4.66.1)\n",
            "Requirement already satisfied: python-slugify in /usr/local/lib/python3.10/dist-packages (from kaggle) (8.0.1)\n",
            "Requirement already satisfied: urllib3 in /usr/local/lib/python3.10/dist-packages (from kaggle) (2.0.7)\n",
            "Requirement already satisfied: bleach in /usr/local/lib/python3.10/dist-packages (from kaggle) (6.1.0)\n",
            "Requirement already satisfied: webencodings in /usr/local/lib/python3.10/dist-packages (from bleach->kaggle) (0.5.1)\n",
            "Requirement already satisfied: text-unidecode>=1.3 in /usr/local/lib/python3.10/dist-packages (from python-slugify->kaggle) (1.3)\n",
            "Requirement already satisfied: charset-normalizer<4,>=2 in /usr/local/lib/python3.10/dist-packages (from requests->kaggle) (3.3.2)\n",
            "Requirement already satisfied: idna<4,>=2.5 in /usr/local/lib/python3.10/dist-packages (from requests->kaggle) (3.6)\n"
          ]
        }
      ],
      "source": [
        "!pip install kaggle"
      ]
    },
    {
      "cell_type": "code",
      "source": [
        "from google.colab import files"
      ],
      "metadata": {
        "id": "2sedvX4r3Eh_"
      },
      "execution_count": 3,
      "outputs": []
    },
    {
      "cell_type": "code",
      "source": [
        "from google.colab.files import upload"
      ],
      "metadata": {
        "id": "PZ2PeZx83LY7"
      },
      "execution_count": 4,
      "outputs": []
    },
    {
      "cell_type": "code",
      "source": [
        "!mkdir -p ~/.kaggle !cp kaggle.json ~/.kaggle/ !chmod 600 ~/.kaggle/kaggle.json"
      ],
      "metadata": {
        "id": "1LVBiQz63f5_"
      },
      "execution_count": 5,
      "outputs": []
    },
    {
      "cell_type": "code",
      "source": [
        "import pandas as pd\n",
        "import matplotlib.pyplot as plt\n",
        "import seaborn as sns\n",
        "from sklearn.metrics import mean_absolute_error\n",
        "from sklearn.model_selection import train_test_split\n",
        "from sklearn.ensemble import RandomForestRegressor\n",
        "import pickle"
      ],
      "metadata": {
        "id": "zlnb3Sxo3hqR"
      },
      "execution_count": 7,
      "outputs": []
    },
    {
      "cell_type": "code",
      "source": [
        "df = pd.read_csv('Time-Americans_Spend_Sleeping.csv')"
      ],
      "metadata": {
        "id": "lawuwsrV4uTg"
      },
      "execution_count": 10,
      "outputs": []
    },
    {
      "cell_type": "code",
      "source": [
        "data = pd.read_csv('Time-Americans_Spend_Sleeping.csv')"
      ],
      "metadata": {
        "id": "PrQhdWgR6hOU"
      },
      "execution_count": 14,
      "outputs": []
    },
    {
      "cell_type": "code",
      "source": [
        "print(data.head())"
      ],
      "metadata": {
        "colab": {
          "base_uri": "https://localhost:8080/"
        },
        "id": "HC86PuFz6Q-q",
        "outputId": "1ab2b91e-f7cc-4377-be5d-b47411acf2fa"
      },
      "execution_count": 15,
      "outputs": [
        {
          "output_type": "stream",
          "name": "stdout",
          "text": [
            "   index  Year  Period  Avg hrs per day sleeping  Standard Error Type of Days  \\\n",
            "0      0  2003  Annual                      8.57           0.018     All days   \n",
            "1      1  2004  Annual                      8.55           0.026     All days   \n",
            "2      2  2005  Annual                      8.62           0.023     All days   \n",
            "3      3  2006  Annual                      8.63           0.024     All days   \n",
            "4      4  2007  Annual                      8.57           0.024     All days   \n",
            "\n",
            "           Age Group  Activity   Sex  \n",
            "0  15 years and over  Sleeping  Both  \n",
            "1  15 years and over  Sleeping  Both  \n",
            "2  15 years and over  Sleeping  Both  \n",
            "3  15 years and over  Sleeping  Both  \n",
            "4  15 years and over  Sleeping  Both  \n"
          ]
        }
      ]
    },
    {
      "cell_type": "code",
      "source": [
        "print(data.info())"
      ],
      "metadata": {
        "colab": {
          "base_uri": "https://localhost:8080/"
        },
        "id": "ujBxVM1V6oq3",
        "outputId": "811da8fa-28e4-4482-cdf4-82fa41ee72a7"
      },
      "execution_count": 16,
      "outputs": [
        {
          "output_type": "stream",
          "name": "stdout",
          "text": [
            "<class 'pandas.core.frame.DataFrame'>\n",
            "RangeIndex: 945 entries, 0 to 944\n",
            "Data columns (total 9 columns):\n",
            " #   Column                    Non-Null Count  Dtype  \n",
            "---  ------                    --------------  -----  \n",
            " 0   index                     945 non-null    int64  \n",
            " 1   Year                      945 non-null    int64  \n",
            " 2   Period                    945 non-null    object \n",
            " 3   Avg hrs per day sleeping  945 non-null    float64\n",
            " 4   Standard Error            945 non-null    float64\n",
            " 5   Type of Days              945 non-null    object \n",
            " 6   Age Group                 945 non-null    object \n",
            " 7   Activity                  945 non-null    object \n",
            " 8   Sex                       945 non-null    object \n",
            "dtypes: float64(2), int64(2), object(5)\n",
            "memory usage: 66.6+ KB\n",
            "None\n"
          ]
        }
      ]
    },
    {
      "cell_type": "code",
      "source": [
        "print(data.describe())"
      ],
      "metadata": {
        "colab": {
          "base_uri": "https://localhost:8080/"
        },
        "id": "3oXdGreK6tB5",
        "outputId": "92c313f0-d6bb-493b-d643-00fa23b5fe89"
      },
      "execution_count": 17,
      "outputs": [
        {
          "output_type": "stream",
          "name": "stdout",
          "text": [
            "            index         Year  Avg hrs per day sleeping  Standard Error\n",
            "count  945.000000   945.000000                945.000000      945.000000\n",
            "mean   472.000000  2010.000000                  8.806868        0.086958\n",
            "std    272.942302     4.322782                  0.545001        0.034631\n",
            "min      0.000000  2003.000000                  7.720000        0.018000\n",
            "25%    236.000000  2006.000000                  8.360000        0.063000\n",
            "50%    472.000000  2010.000000                  8.810000        0.084000\n",
            "75%    708.000000  2014.000000                  9.190000        0.106000\n",
            "max    944.000000  2017.000000                 10.650000        0.228000\n"
          ]
        }
      ]
    }
  ]
}