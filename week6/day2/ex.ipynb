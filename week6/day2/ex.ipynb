{
  "nbformat": 4,
  "nbformat_minor": 0,
  "metadata": {
    "colab": {
      "provenance": [],
      "authorship_tag": "ABX9TyOZegvXkWcee2sE3cocd6zD",
      "include_colab_link": true
    },
    "kernelspec": {
      "name": "python3",
      "display_name": "Python 3"
    },
    "language_info": {
      "name": "python"
    }
  },
  "cells": [
    {
      "cell_type": "markdown",
      "metadata": {
        "id": "view-in-github",
        "colab_type": "text"
      },
      "source": [
        "<a href=\"https://colab.research.google.com/github/midleone/DI-Bootcamp/blob/main/week6/day2/ex.ipynb\" target=\"_parent\"><img src=\"https://colab.research.google.com/assets/colab-badge.svg\" alt=\"Open In Colab\"/></a>"
      ]
    },
    {
      "cell_type": "code",
      "execution_count": 3,
      "metadata": {
        "colab": {
          "base_uri": "https://localhost:8080/"
        },
        "id": "Q-kZq0_zeWYP",
        "outputId": "0820a043-90ef-4046-a731-29711cacd5aa"
      },
      "outputs": [
        {
          "output_type": "stream",
          "name": "stdout",
          "text": [
            "Determinant of the matrix:\n",
            "0.0\n",
            "\n",
            "The matrix is singular and does not have an inverse.\n"
          ]
        }
      ],
      "source": [
        "import numpy as np\n",
        "import pandas as pd\n",
        "\n",
        "matrix = np.array([[2, 4, 6],\n",
        "                   [1, 3, 5],\n",
        "                   [7, 8, 9]])\n",
        "\n",
        "determinant = np.linalg.det(matrix)\n",
        "print(f\"Determinant of the matrix:\\n{determinant}\\n\")\n",
        "\n",
        "\n",
        "try:\n",
        "    inverse_matrix = np.linalg.inv(matrix)\n",
        "    print(\"Inverse of the matrix:\\n\", inverse_matrix)\n",
        "except np.linalg.LinAlgError:\n",
        "    print(\"The matrix does not have an inverse.\")\n"
      ]
    },
    {
      "cell_type": "code",
      "source": [],
      "metadata": {
        "id": "Nt9rl2tSfSb1"
      },
      "execution_count": null,
      "outputs": []
    },
    {
      "cell_type": "code",
      "source": [
        "\n",
        "random_numbers = np.random.rand(50)\n",
        "\n",
        "mean_value = np.mean(random_numbers)\n",
        "median_value = np.median(random_numbers)\n",
        "\n",
        "print(f\"Mean: {mean_value:.2f}\")\n",
        "print(f\"Median: {median_value:.2f}\")\n",
        "\n",
        "std_deviation = np.std(random_numbers)\n",
        "\n",
        "print(f\"Standard Deviation: {std_deviation:.2f}\")\n"
      ],
      "metadata": {
        "colab": {
          "base_uri": "https://localhost:8080/"
        },
        "id": "5YUzYVmqeqJm",
        "outputId": "68e88246-04d6-4ee1-ce76-f1ebd1547268"
      },
      "execution_count": 2,
      "outputs": [
        {
          "output_type": "stream",
          "name": "stdout",
          "text": [
            "Mean: 0.52\n",
            "Median: 0.51\n",
            "Standard Deviation: 0.27\n"
          ]
        }
      ]
    },
    {
      "cell_type": "code",
      "source": [
        "\n",
        "\n",
        "start_date = \"2023-01-01\"\n",
        "end_date = \"2023-01-31\"\n",
        "date_array = np.arange(np.datetime64(start_date), np.datetime64(end_date) + np.timedelta64(1, 'D'), dtype='datetime64')\n",
        "\n",
        "formatted_dates = pd.to_datetime(date_array).strftime('%Y/%m/%d')\n",
        "\n",
        "print(\"Original Dates:\")\n",
        "print(date_array)\n",
        "\n",
        "print(\"\\nFormatted Dates:\")\n",
        "print(formatted_dates)\n"
      ],
      "metadata": {
        "colab": {
          "base_uri": "https://localhost:8080/"
        },
        "id": "32LoOUAtfDAG",
        "outputId": "ff0afdbb-9391-4e61-d136-c917844e9f5b"
      },
      "execution_count": 4,
      "outputs": [
        {
          "output_type": "stream",
          "name": "stdout",
          "text": [
            "Original Dates:\n",
            "['2023-01-01' '2023-01-02' '2023-01-03' '2023-01-04' '2023-01-05'\n",
            " '2023-01-06' '2023-01-07' '2023-01-08' '2023-01-09' '2023-01-10'\n",
            " '2023-01-11' '2023-01-12' '2023-01-13' '2023-01-14' '2023-01-15'\n",
            " '2023-01-16' '2023-01-17' '2023-01-18' '2023-01-19' '2023-01-20'\n",
            " '2023-01-21' '2023-01-22' '2023-01-23' '2023-01-24' '2023-01-25'\n",
            " '2023-01-26' '2023-01-27' '2023-01-28' '2023-01-29' '2023-01-30'\n",
            " '2023-01-31']\n",
            "\n",
            "Formatted Dates:\n",
            "Index(['2023/01/01', '2023/01/02', '2023/01/03', '2023/01/04', '2023/01/05',\n",
            "       '2023/01/06', '2023/01/07', '2023/01/08', '2023/01/09', '2023/01/10',\n",
            "       '2023/01/11', '2023/01/12', '2023/01/13', '2023/01/14', '2023/01/15',\n",
            "       '2023/01/16', '2023/01/17', '2023/01/18', '2023/01/19', '2023/01/20',\n",
            "       '2023/01/21', '2023/01/22', '2023/01/23', '2023/01/24', '2023/01/25',\n",
            "       '2023/01/26', '2023/01/27', '2023/01/28', '2023/01/29', '2023/01/30',\n",
            "       '2023/01/31'],\n",
            "      dtype='object')\n"
          ]
        }
      ]
    },
    {
      "cell_type": "code",
      "source": [
        "np.random.seed(1)\n",
        "data = {'A': np.random.randint(1, 10, 10),\n",
        "        'B': np.random.uniform(0, 1, 10),\n",
        "        'C': np.random.normal(0, 1, 10)}\n",
        "\n",
        "df = pd.DataFrame(data)\n",
        "\n",
        "print(\"Original DataFrame:\")\n",
        "print(df)\n",
        "\n",
        "condition = df['A'] > 5\n",
        "selected_data = df[condition]\n",
        "\n",
        "print(\"\\nConditional Selection:\")\n",
        "print(selected_data)\n",
        "\n",
        "sum_values = df.sum()\n",
        "average_values = df.mean()\n",
        "\n",
        "print(\"\\nSum of Values:\")\n",
        "print(sum_values)\n",
        "\n",
        "print(\"\\nAverage of Values:\")\n",
        "print(average_values)\n"
      ],
      "metadata": {
        "colab": {
          "base_uri": "https://localhost:8080/"
        },
        "id": "1T-osG4nfUBi",
        "outputId": "bc18064f-3d6b-4fec-acfb-0090038c58cd"
      },
      "execution_count": 5,
      "outputs": [
        {
          "output_type": "stream",
          "name": "stdout",
          "text": [
            "Original DataFrame:\n",
            "   A         B         C\n",
            "0  6  0.419195  1.133769\n",
            "1  9  0.685220 -1.099891\n",
            "2  6  0.204452 -0.172428\n",
            "3  1  0.878117 -0.877858\n",
            "4  1  0.027388  0.042214\n",
            "5  2  0.670468  0.582815\n",
            "6  8  0.417305 -1.100619\n",
            "7  7  0.558690  1.144724\n",
            "8  3  0.140387  0.901591\n",
            "9  5  0.198101  0.502494\n",
            "\n",
            "Conditional Selection:\n",
            "   A         B         C\n",
            "0  6  0.419195  1.133769\n",
            "1  9  0.685220 -1.099891\n",
            "2  6  0.204452 -0.172428\n",
            "6  8  0.417305 -1.100619\n",
            "7  7  0.558690  1.144724\n",
            "\n",
            "Sum of Values:\n",
            "A    48.000000\n",
            "B     4.199322\n",
            "C     1.056810\n",
            "dtype: float64\n",
            "\n",
            "Average of Values:\n",
            "A    4.800000\n",
            "B    0.419932\n",
            "C    0.105681\n",
            "dtype: float64\n"
          ]
        }
      ]
    },
    {
      "cell_type": "code",
      "source": [
        "import matplotlib.pyplot as plt\n",
        "\n",
        "gray_image = np.array([\n",
        "    [50, 100, 150, 200, 250],\n",
        "    [75, 125, 175, 225, 255],\n",
        "    [100, 150, 200, 250, 200],\n",
        "    [125, 175, 225, 200, 150],\n",
        "    [150, 200, 175, 125, 100]\n",
        "], dtype=np.uint8)\n",
        "\n",
        "plt.imshow(gray_image, cmap='gray', vmin=0, vmax=255)\n",
        "plt.title('Grayscale Image')\n",
        "plt.show()\n",
        "\n"
      ],
      "metadata": {
        "colab": {
          "base_uri": "https://localhost:8080/",
          "height": 452
        },
        "id": "f1ypSGxEffFp",
        "outputId": "b57ae464-3584-4279-fc87-435a92ecf83b"
      },
      "execution_count": 11,
      "outputs": [
        {
          "output_type": "display_data",
          "data": {
            "text/plain": [
              "<Figure size 640x480 with 1 Axes>"
            ],
            "image/png": "[encoded data removed]"
          },
          "metadata": {}
        }
      ]
    },
    {
      "cell_type": "code",
      "source": [
        "import numpy as np\n",
        "\n",
        "productivity_before = np.random.normal(loc=50, scale=10, size=30)\n",
        "\n",
        "productivity_after = productivity_before + np.random.normal(loc=5, scale=3, size=30)\n",
        "\n",
        "mean_difference = np.mean(productivity_after - productivity_before)\n",
        "\n",
        "from scipy.stats import ttest_rel\n",
        "t_statistic, p_value = ttest_rel(productivity_after, productivity_before)\n",
        "\n",
        "alpha = 0.05\n",
        "\n",
        "print(f\"Mean Difference: {mean_difference:.2f}\")\n",
        "print(f\"T-Statistic: {t_statistic:.2f}\")\n",
        "print(f\"P-Value: {p_value:.4f}\")\n",
        "\n",
        "if p_value < alpha:\n",
        "    print(\"The difference in productivity is statistically significant. Reject the null hypothesis.\")\n",
        "else:\n",
        "    print(\"There is not enough evidence to reject the null hypothesis.\")\n"
      ],
      "metadata": {
        "colab": {
          "base_uri": "https://localhost:8080/"
        },
        "id": "FJSHb4x0f7Ac",
        "outputId": "5400f91e-5df7-4973-912f-a022e20012d4"
      },
      "execution_count": 12,
      "outputs": [
        {
          "output_type": "stream",
          "name": "stdout",
          "text": [
            "Mean Difference: 5.70\n",
            "T-Statistic: 11.60\n",
            "P-Value: 0.0000\n",
            "The difference in productivity is statistically significant. Reject the null hypothesis.\n"
          ]
        }
      ]
    },
    {
      "cell_type": "code",
      "source": [
        "array1 = np.array([1, 5, 3, 8, 2])\n",
        "array2 = np.array([3, 2, 5, 1, 7])\n",
        "\n",
        "comparison_result = array1 > array2\n",
        "\n",
        "print(\"Array 1:\", array1)\n",
        "print(\"Array 2:\", array2)\n",
        "print(\"Element-wise Comparison Result:\", comparison_result)\n"
      ],
      "metadata": {
        "colab": {
          "base_uri": "https://localhost:8080/"
        },
        "id": "wpsB5oBwgFI6",
        "outputId": "c471b51c-ed5d-4d2f-d51f-259350e50475"
      },
      "execution_count": 13,
      "outputs": [
        {
          "output_type": "stream",
          "name": "stdout",
          "text": [
            "Array 1: [1 5 3 8 2]\n",
            "Array 2: [3 2 5 1 7]\n",
            "Element-wise Comparison Result: [False  True False  True False]\n"
          ]
        }
      ]
    },
    {
      "cell_type": "code",
      "source": [
        "import pandas as pd\n",
        "import numpy as np\n",
        "\n",
        "start_date = \"2023-01-01\"\n",
        "end_date = \"2023-12-31\"\n",
        "time_series_data = pd.date_range(start=start_date, end=end_date, freq='D')\n",
        "\n",
        "np.random.seed(0)\n",
        "data_values = np.random.randint(1, 100, len(time_series_data))\n",
        "time_series_df = pd.DataFrame({'Date': time_series_data, 'Value': data_values})\n",
        "\n",
        "print(\"Time Series Data:\")\n",
        "print(time_series_df.head())\n",
        "\n",
        "jan_mar_slice = time_series_df[(time_series_df['Date'] >= '2023-01-01') & (time_series_df['Date'] <= '2023-03-31')]\n",
        "apr_jun_slice = time_series_df[(time_series_df['Date'] >= '2023-04-01') & (time_series_df['Date'] <= '2023-06-30')]\n",
        "jul_sep_slice = time_series_df[(time_series_df['Date'] >= '2023-07-01') & (time_series_df['Date'] <= '2023-09-30')]\n",
        "oct_dec_slice = time_series_df[(time_series_df['Date'] >= '2023-10-01') & (time_series_df['Date'] <= '2023-12-31')]\n",
        "\n",
        "print(\"\\nSliced Data for January to March:\")\n",
        "print(jan_mar_slice.head())\n",
        "\n",
        "print(\"\\nSliced Data for April to June:\")\n",
        "print(apr_jun_slice.head())\n",
        "\n",
        "print(\"\\nSliced Data for July to September:\")\n",
        "print(jul_sep_slice.head())\n",
        "\n",
        "print(\"\\nSliced Data for October to December:\")\n",
        "print(oct_dec_slice.head())\n"
      ],
      "metadata": {
        "colab": {
          "base_uri": "https://localhost:8080/"
        },
        "id": "8UsxfROcgPH7",
        "outputId": "fdb824db-f699-41e6-dcce-28ff032684d7"
      },
      "execution_count": 14,
      "outputs": [
        {
          "output_type": "stream",
          "name": "stdout",
          "text": [
            "Time Series Data:\n",
            "        Date  Value\n",
            "0 2023-01-01     45\n",
            "1 2023-01-02     48\n",
            "2 2023-01-03     65\n",
            "3 2023-01-04     68\n",
            "4 2023-01-05     68\n",
            "\n",
            "Sliced Data for January to March:\n",
            "        Date  Value\n",
            "0 2023-01-01     45\n",
            "1 2023-01-02     48\n",
            "2 2023-01-03     65\n",
            "3 2023-01-04     68\n",
            "4 2023-01-05     68\n",
            "\n",
            "Sliced Data for April to June:\n",
            "         Date  Value\n",
            "90 2023-04-01     21\n",
            "91 2023-04-02     59\n",
            "92 2023-04-03     24\n",
            "93 2023-04-04     80\n",
            "94 2023-04-05     14\n",
            "\n",
            "Sliced Data for July to September:\n",
            "          Date  Value\n",
            "181 2023-07-01     76\n",
            "182 2023-07-02     57\n",
            "183 2023-07-03     17\n",
            "184 2023-07-04     25\n",
            "185 2023-07-05     30\n",
            "\n",
            "Sliced Data for October to December:\n",
            "          Date  Value\n",
            "273 2023-10-01     76\n",
            "274 2023-10-02     35\n",
            "275 2023-10-03     70\n",
            "276 2023-10-04     54\n",
            "277 2023-10-05     81\n"
          ]
        }
      ]
    },
    {
      "cell_type": "code",
      "source": [
        "import numpy as np\n",
        "import matplotlib.pyplot as plt\n",
        "\n",
        "np.random.seed(42)\n",
        "x_values = np.arange(1, 11)\n",
        "y_values = np.random.randint(1, 50, size=10)\n",
        "\n",
        "plt.plot(x_values, y_values, marker='o', linestyle='-')\n",
        "\n",
        "plt.title('Line Graph of Random Numbers')\n",
        "plt.xlabel('X-axis')\n",
        "plt.ylabel('Y-axis')\n",
        "\n",
        "plt.grid(True)\n",
        "plt.show()\n"
      ],
      "metadata": {
        "colab": {
          "base_uri": "https://localhost:8080/",
          "height": 472
        },
        "id": "wQN6hbqcgawH",
        "outputId": "a31616aa-4d51-4731-95ba-3f60c4274575"
      },
      "execution_count": 15,
      "outputs": [
        {
          "output_type": "display_data",
          "data": {
            "text/plain": [
              "<Figure size 640x480 with 1 Axes>"
            ],
            "image/png": "[encoded data removed]"
          },
          "metadata": {}
        }
      ]
    }
  ]
}