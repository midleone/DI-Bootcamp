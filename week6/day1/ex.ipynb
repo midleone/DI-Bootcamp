{
  "nbformat": 4,
  "nbformat_minor": 0,
  "metadata": {
    "colab": {
      "provenance": [],
      "authorship_tag": "ABX9TyORtwkM9jJqNvUP4i+ol4HM",
      "include_colab_link": true
    },
    "kernelspec": {
      "name": "python3",
      "display_name": "Python 3"
    },
    "language_info": {
      "name": "python"
    }
  },
  "cells": [
    {
      "cell_type": "markdown",
      "metadata": {
        "id": "view-in-github",
        "colab_type": "text"
      },
      "source": [
        "<a href=\"https://colab.research.google.com/github/midleone/DI-Bootcamp/blob/main/week6/day1/ex.ipynb\" target=\"_parent\"><img src=\"https://colab.research.google.com/assets/colab-badge.svg\" alt=\"Open In Colab\"/></a>"
      ]
    },
    {
      "cell_type": "code",
      "execution_count": 4,
      "metadata": {
        "colab": {
          "base_uri": "https://localhost:8080/"
        },
        "id": "DxO_VyzRS6Hr",
        "outputId": "d4959cf2-38d8-461a-9bc4-e5e4c9dc79ea"
      },
      "outputs": [
        {
          "output_type": "stream",
          "name": "stdout",
          "text": [
            "[3 2 0 1 2]\n"
          ]
        }
      ],
      "source": [
        "import numpy as np\n",
        "\n",
        "original_list = [3.14, 2.17, 0, 1, 2]\n",
        "\n",
        "numpy_array = np.array(original_list, dtype=int)\n",
        "\n",
        "print(numpy_array)"
      ]
    },
    {
      "cell_type": "code",
      "source": [
        "\n",
        "array_1d = np.arange(10)\n",
        "\n",
        "print(array_1d)"
      ],
      "metadata": {
        "colab": {
          "base_uri": "https://localhost:8080/"
        },
        "id": "m3mjE9y7TQPg",
        "outputId": "50935e72-700b-44fd-d2db-2a31152aa55b"
      },
      "execution_count": 3,
      "outputs": [
        {
          "output_type": "stream",
          "name": "stdout",
          "text": [
            "[0 1 2 3 4 5 6 7 8 9]\n"
          ]
        }
      ]
    },
    {
      "cell_type": "code",
      "source": [
        "import numpy as np\n",
        "\n",
        "array_1d = np.arange(1, 10)\n",
        "array_3x3 = array_1d.reshape(3, 3)\n",
        "\n",
        "print(array_3x3)"
      ],
      "metadata": {
        "colab": {
          "base_uri": "https://localhost:8080/"
        },
        "id": "QXWqrO2STX7e",
        "outputId": "42ce68a0-15fd-4bd4-e270-7b177bf6a576"
      },
      "execution_count": 5,
      "outputs": [
        {
          "output_type": "stream",
          "name": "stdout",
          "text": [
            "[[1 2 3]\n",
            " [4 5 6]\n",
            " [7 8 9]]\n"
          ]
        }
      ]
    },
    {
      "cell_type": "code",
      "source": [
        "random_array = np.random.rand(4, 5)\n",
        "\n",
        "print(random_array)"
      ],
      "metadata": {
        "colab": {
          "base_uri": "https://localhost:8080/"
        },
        "id": "ONjPGrl7TwqI",
        "outputId": "5446b42d-557e-4776-9132-01444d0124ae"
      },
      "execution_count": 6,
      "outputs": [
        {
          "output_type": "stream",
          "name": "stdout",
          "text": [
            "[[0.38114551 0.68125837 0.84072357 0.67028687 0.80304639]\n",
            " [0.54026362 0.02319829 0.92999601 0.62867925 0.3811469 ]\n",
            " [0.57782108 0.8801139  0.81621829 0.28116614 0.23304013]\n",
            " [0.65511966 0.2320387  0.90785164 0.7622534  0.41111553]]\n"
          ]
        }
      ]
    },
    {
      "cell_type": "code",
      "source": [
        "my_array = np.array([[10, 11, 12, 13, 14],\n",
        "                     [20, 21, 22, 23, 24],\n",
        "                     [30, 31, 32, 33, 34]])\n",
        "\n",
        "second_row = my_array[1, :]\n",
        "\n",
        "print(second_row)"
      ],
      "metadata": {
        "colab": {
          "base_uri": "https://localhost:8080/"
        },
        "id": "_IOGLjlsT8xw",
        "outputId": "6e60d003-550d-4e25-fb39-7ba6f4fab8d6"
      },
      "execution_count": 7,
      "outputs": [
        {
          "output_type": "stream",
          "name": "stdout",
          "text": [
            "[20 21 22 23 24]\n"
          ]
        }
      ]
    },
    {
      "cell_type": "code",
      "source": [
        "original_array = np.array([0, 1, 2, 3, 4, 5, 6, 7, 8, 9])\n",
        "\n",
        "reversed_array = original_array[::-1]\n",
        "\n",
        "print(reversed_array)"
      ],
      "metadata": {
        "colab": {
          "base_uri": "https://localhost:8080/"
        },
        "id": "19OWdYUBUBSi",
        "outputId": "32329bc4-3a40-4e12-c14e-886ace28a99d"
      },
      "execution_count": 8,
      "outputs": [
        {
          "output_type": "stream",
          "name": "stdout",
          "text": [
            "[9 8 7 6 5 4 3 2 1 0]\n"
          ]
        }
      ]
    },
    {
      "cell_type": "code",
      "source": [
        "identity_matrix = np.eye(4)\n",
        "\n",
        "print(identity_matrix)"
      ],
      "metadata": {
        "colab": {
          "base_uri": "https://localhost:8080/"
        },
        "id": "dMEwlfztUEIk",
        "outputId": "88335540-dde6-466d-fb39-31a0f8f7f75b"
      },
      "execution_count": 9,
      "outputs": [
        {
          "output_type": "stream",
          "name": "stdout",
          "text": [
            "[[1. 0. 0. 0.]\n",
            " [0. 1. 0. 0.]\n",
            " [0. 0. 1. 0.]\n",
            " [0. 0. 0. 1.]]\n"
          ]
        }
      ]
    },
    {
      "cell_type": "code",
      "source": [
        "my_array = np.array([1, 2, 3, 4, 5, 6, 7, 8, 9, 10])\n",
        "\n",
        "array_sum = np.sum(my_array)\n",
        "array_average = np.mean(my_array)\n",
        "\n",
        "print(\"Sum:\", array_sum, \", Average:\", array_average)"
      ],
      "metadata": {
        "colab": {
          "base_uri": "https://localhost:8080/"
        },
        "id": "ZqPgRcSkUODn",
        "outputId": "2de9dad9-9723-4c5f-d55b-1a0099531c3e"
      },
      "execution_count": 10,
      "outputs": [
        {
          "output_type": "stream",
          "name": "stdout",
          "text": [
            "Sum: 55 , Average: 5.5\n"
          ]
        }
      ]
    },
    {
      "cell_type": "code",
      "source": [
        "array_1d = np.arange(1, 21)\n",
        "array_2d = array_1d.reshape(4, 5)\n",
        "\n",
        "print(array_2d)"
      ],
      "metadata": {
        "colab": {
          "base_uri": "https://localhost:8080/"
        },
        "id": "kk5k5sCFUQDN",
        "outputId": "62073ada-7fb7-4e5f-b120-4d5b34031dfa"
      },
      "execution_count": 11,
      "outputs": [
        {
          "output_type": "stream",
          "name": "stdout",
          "text": [
            "[[ 1  2  3  4  5]\n",
            " [ 6  7  8  9 10]\n",
            " [11 12 13 14 15]\n",
            " [16 17 18 19 20]]\n"
          ]
        }
      ]
    },
    {
      "cell_type": "code",
      "source": [
        "my_array = np.array([1, 2, 3, 4, 5, 6, 7, 8, 9])\n",
        "\n",
        "odd_numbers = my_array[my_array % 2 != 0]\n",
        "\n",
        "print(odd_numbers)"
      ],
      "metadata": {
        "colab": {
          "base_uri": "https://localhost:8080/"
        },
        "id": "-qYzVF4YUdRi",
        "outputId": "30dd1446-a53e-4f91-deda-b6cd5f4dfbe9"
      },
      "execution_count": 12,
      "outputs": [
        {
          "output_type": "stream",
          "name": "stdout",
          "text": [
            "[1 3 5 7 9]\n"
          ]
        }
      ]
    }
  ]
}