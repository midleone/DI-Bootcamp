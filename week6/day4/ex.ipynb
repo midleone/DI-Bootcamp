{
  "nbformat": 4,
  "nbformat_minor": 0,
  "metadata": {
    "colab": {
      "provenance": [],
      "authorship_tag": "ABX9TyNh68XrzvsaQwqN0PL0iQW0",
      "include_colab_link": true
    },
    "kernelspec": {
      "name": "python3",
      "display_name": "Python 3"
    },
    "language_info": {
      "name": "python"
    }
  },
  "cells": [
    {
      "cell_type": "markdown",
      "metadata": {
        "id": "view-in-github",
        "colab_type": "text"
      },
      "source": [
        "<a href=\"https://colab.research.google.com/github/midleone/DI-Bootcamp/blob/main/week6/day4/ex.ipynb\" target=\"_parent\"><img src=\"https://colab.research.google.com/assets/colab-badge.svg\" alt=\"Open In Colab\"/></a>"
      ]
    },
    {
      "cell_type": "code",
      "execution_count": 1,
      "metadata": {
        "colab": {
          "base_uri": "https://localhost:8080/"
        },
        "id": "ui8lpYEi36GY",
        "outputId": "650562f9-ab6b-4a67-f539-f0f9a95e7edd"
      },
      "outputs": [
        {
          "output_type": "stream",
          "name": "stdout",
          "text": [
            "The slope of the regression line is 1828.7671232876708\n",
            "This means that for every additional square meter of house size, the price of the house is predicted to increase by 1828.7671232876708 currency units.\n"
          ]
        }
      ],
      "source": [
        "import numpy as np\n",
        "import pandas as pd\n",
        "from sklearn.linear_model import LinearRegression\n",
        "\n",
        "data = pd.DataFrame({\n",
        "    \"house_size\": [50, 70, 80, 100, 120],\n",
        "    \"house_price\": [150000, 200000, 210000, 250000, 280000]\n",
        "})\n",
        "\n",
        "model = LinearRegression()\n",
        "model.fit(data[\"house_size\"].values.reshape(-1, 1), data[\"house_price\"])\n",
        "\n",
        "slope = model.coef_[0]\n",
        "intercept = model.intercept_\n",
        "\n",
        "predicted_price = slope * 90 + intercept\n",
        "\n",
        "print(\"The slope of the regression line is\", slope)\n",
        "print(\"This means that for every additional square meter of house size, the price of the house is predicted to increase by\", slope, \"currency units.\")\n"
      ]
    },
    {
      "cell_type": "code",
      "source": [
        "from scipy.stats import f_oneway\n",
        "\n",
        "fertilizers = [\n",
        "    [5, 6, 7, 6, 5],\n",
        "    [7, 8, 7, 9, 8],\n",
        "    [4, 5, 4, 3, 4]\n",
        "]\n",
        "\n",
        "f_value, p_value = f_oneway(*fertilizers)\n",
        "\n",
        "print(\"F-value:\", f_value)\n",
        "print(\"P-value:\", p_value)\n",
        "\n",
        "if p_value < 0.05:\n",
        "    print(\"The fertilizers have significantly different effects on plant growth.\")\n",
        "else:\n",
        "    print(\"The fertilizers do not have significantly different effects on plant growth.\")\n",
        "\n"
      ],
      "metadata": {
        "colab": {
          "base_uri": "https://localhost:8080/"
        },
        "id": "3EG0Odr94fX5",
        "outputId": "8c1f1368-0823-4511-9dc6-618f09f2c596"
      },
      "execution_count": 3,
      "outputs": [
        {
          "output_type": "stream",
          "name": "stdout",
          "text": [
            "F-value: 28.52631578947368\n",
            "P-value: 2.7542672098048448e-05\n",
            "The fertilizers have significantly different effects on plant growth.\n"
          ]
        }
      ]
    },
    {
      "cell_type": "code",
      "source": [
        "import numpy as np\n",
        "from scipy.stats import binom\n",
        "\n",
        "n = 10\n",
        "p = 0.5\n",
        "k = 5\n",
        "\n",
        "probability = binom.pmf(k, n, p)\n",
        "print(probability)"
      ],
      "metadata": {
        "colab": {
          "base_uri": "https://localhost:8080/"
        },
        "id": "kA7nhURG4xFI",
        "outputId": "44c9f049-6a95-4f24-da47-7d31f08f7cd7"
      },
      "execution_count": 5,
      "outputs": [
        {
          "output_type": "stream",
          "name": "stdout",
          "text": [
            "0.24609375000000003\n"
          ]
        }
      ]
    },
    {
      "cell_type": "code",
      "source": [
        "\n",
        "data = pd.DataFrame({'age': [23, 25, 30, 35, 40], 'income': [35000, 40000, 50000, 60000, 70000]})\n",
        "\n",
        "print(\"Pearson correlation coefficient:\", data.corr()[\"age\"][\"income\"])\n",
        "print(\"Spearman correlation coefficient:\", data.corr(method=\"spearman\")[\"age\"][\"income\"])\n"
      ],
      "metadata": {
        "colab": {
          "base_uri": "https://localhost:8080/"
        },
        "id": "Pss6_Yrd46y8",
        "outputId": "2b3bab09-f111-46e8-b3fd-eaee0c2157db"
      },
      "execution_count": 6,
      "outputs": [
        {
          "output_type": "stream",
          "name": "stdout",
          "text": [
            "Pearson correlation coefficient: 0.9996907452347202\n",
            "Spearman correlation coefficient: 1.0\n"
          ]
        }
      ]
    },
    {
      "cell_type": "code",
      "source": [],
      "metadata": {
        "id": "81uvDcfi5BKJ"
      },
      "execution_count": null,
      "outputs": []
    }
  ]
}